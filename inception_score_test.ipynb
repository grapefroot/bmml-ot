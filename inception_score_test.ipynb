{
 "cells": [
  {
   "cell_type": "code",
   "execution_count": 11,
   "metadata": {},
   "outputs": [],
   "source": [
    "import torch\n",
    "import numpy as np\n",
    "from skimage.io import imshow\n",
    "import matplotlib.pyplot as plt\n",
    "import matplotlib\n",
    "\n",
    "from interpolation import two_point_interpolation, analogies,gaussian_interpolation,\\\n",
    "    n_point_interpolation,vicinity_sampling\n",
    "%matplotlib inline"
   ]
  },
  {
   "cell_type": "code",
   "execution_count": 12,
   "metadata": {},
   "outputs": [],
   "source": [
    "class Generator(nn.Module):\n",
    "    def __init__(self, ngpu):\n",
    "        super(Generator, self).__init__()\n",
    "        self.ngpu = ngpu\n",
    "        self.main = nn.Sequential(\n",
    "            # input is Z, going into a convolution\n",
    "            nn.ConvTranspose2d(     nz, ngf * 8, 4, 1, 0, bias=False),\n",
    "            nn.BatchNorm2d(ngf * 8),\n",
    "            nn.ReLU(True),\n",
    "            # state size. (ngf*8) x 4 x 4\n",
    "            nn.ConvTranspose2d(ngf * 8, ngf * 4, 4, 2, 1, bias=False),\n",
    "            nn.BatchNorm2d(ngf * 4),\n",
    "            nn.ReLU(True),\n",
    "            # state size. (ngf*4) x 8 x 8\n",
    "            nn.ConvTranspose2d(ngf * 4, ngf * 2, 4, 2, 1, bias=False),\n",
    "            nn.BatchNorm2d(ngf * 2),\n",
    "            nn.ReLU(True),\n",
    "            # state size. (ngf*2) x 16 x 16\n",
    "            nn.ConvTranspose2d(ngf * 2,     ngf, 4, 2, 1, bias=False),\n",
    "            nn.BatchNorm2d(ngf),\n",
    "            nn.ReLU(True),\n",
    "            # state size. (ngf) x 32 x 32\n",
    "            nn.ConvTranspose2d(    ngf,      nc, 4, 2, 1, bias=False),\n",
    "            nn.Tanh()\n",
    "            # state size. (nc) x 64 x 64\n",
    ")"
   ]
  },
  {
   "cell_type": "code",
   "execution_count": 13,
   "metadata": {},
   "outputs": [],
   "source": [
    "ngpu = 1\n",
    "nz = 100\n",
    "ngf = 64\n",
    "ndf = 64\n",
    "nc = 3"
   ]
  },
  {
   "cell_type": "code",
   "execution_count": 14,
   "metadata": {},
   "outputs": [],
   "source": [
    "device = torch.device(\"cuda:0\" if torch.cuda.is_available() else \"cpu\")"
   ]
  },
  {
   "cell_type": "code",
   "execution_count": 15,
   "metadata": {},
   "outputs": [],
   "source": [
    "netG = Generator(ngpu=ngpu).to(device)"
   ]
  },
  {
   "cell_type": "code",
   "execution_count": 16,
   "metadata": {},
   "outputs": [],
   "source": [
    "netG.load_state_dict(torch.load('../bmml-ot/DCGAN_icon_meta/2/netG_epoch_24.pth'))"
   ]
  },
  {
   "cell_type": "code",
   "execution_count": 17,
   "metadata": {},
   "outputs": [
    {
     "data": {
      "text/plain": [
       "Generator(\n",
       "  (main): Sequential(\n",
       "    (0): ConvTranspose2d(100, 512, kernel_size=(4, 4), stride=(1, 1), bias=False)\n",
       "    (1): BatchNorm2d(512, eps=1e-05, momentum=0.1, affine=True, track_running_stats=True)\n",
       "    (2): ReLU(inplace)\n",
       "    (3): ConvTranspose2d(512, 256, kernel_size=(4, 4), stride=(2, 2), padding=(1, 1), bias=False)\n",
       "    (4): BatchNorm2d(256, eps=1e-05, momentum=0.1, affine=True, track_running_stats=True)\n",
       "    (5): ReLU(inplace)\n",
       "    (6): ConvTranspose2d(256, 128, kernel_size=(4, 4), stride=(2, 2), padding=(1, 1), bias=False)\n",
       "    (7): BatchNorm2d(128, eps=1e-05, momentum=0.1, affine=True, track_running_stats=True)\n",
       "    (8): ReLU(inplace)\n",
       "    (9): ConvTranspose2d(128, 64, kernel_size=(4, 4), stride=(2, 2), padding=(1, 1), bias=False)\n",
       "    (10): BatchNorm2d(64, eps=1e-05, momentum=0.1, affine=True, track_running_stats=True)\n",
       "    (11): ReLU(inplace)\n",
       "    (12): ConvTranspose2d(64, 3, kernel_size=(4, 4), stride=(2, 2), padding=(1, 1), bias=False)\n",
       "    (13): Tanh()\n",
       "  )\n",
       ")"
      ]
     },
     "execution_count": 17,
     "metadata": {},
     "output_type": "execute_result"
    }
   ],
   "source": [
    "netG.eval()"
   ]
  },
  {
   "cell_type": "code",
   "execution_count": 18,
   "metadata": {},
   "outputs": [],
   "source": [
    "from inception_score import inception_score"
   ]
  },
  {
   "cell_type": "code",
   "execution_count": 27,
   "metadata": {},
   "outputs": [],
   "source": [
    "from IPython.core.debugger import set_trace"
   ]
  },
  {
   "cell_type": "code",
   "execution_count": 36,
   "metadata": {},
   "outputs": [],
   "source": [
    "def IS_2point_interpolation_ot(N = 1000):\n",
    "    t = 0.5\n",
    "    src_set  = [torch.randn(1, 100, 1, 1, device=device) for _ in range(N)]\n",
    "    dst_set  = [torch.randn(1, 100, 1, 1, device=device) for _ in range(N)]\n",
    "    pair_set = [two_point_interpolation(src, dst, t=t) for src,dst in zip(src_set, dst_set)]\n",
    "    output_pair = [netG.main(item) for item in pair_set]\n",
    "    return inception_score(torch.cat(output_pair), cuda=True, batch_size=2, resize=True, splits=1)\n",
    "    \n",
    "def IS_2point_interpolation_linear(N = 1000):\n",
    "    t = 0.5\n",
    "    src_set  = [torch.randn(1, 100, 1, 1, device=device) for _ in range(N)]\n",
    "    dst_set  = [torch.randn(1, 100, 1, 1, device=device) for _ in range(N)]\n",
    "    pair_set = [two_point_interpolation(src, dst, t=t, do_scale=False) for src,dst in zip(src_set, dst_set)]\n",
    "    output_pair = [netG.main(item) for item in pair_set]\n",
    "    return inception_score(torch.cat(output_pair), cuda=True, batch_size=2, resize=True, splits=1)\n",
    "    \n",
    "def IS_4point_interpolation_ot(N = 1000):\n",
    "    t = torch.tensor([1/4,1/4,1/4,1/4], device=device)\n",
    "    src_set_1  = [torch.randn(100, device=device) for _ in range(N)]\n",
    "    src_set_2  = [torch.randn(100, device=device) for _ in range(N)]\n",
    "    src_set_3  = [torch.randn(100, device=device) for _ in range(N)]\n",
    "    src_set_4  = [torch.randn(100, device=device) for _ in range(N)]\n",
    "    interpolation_set = [n_point_interpolation(torch.stack([src_1, src_2, src_3, src_4]), t, do_scale=True) \n",
    "                         for src_1,src_2,src_3,src_4 in zip(src_set_1, src_set_2, src_set_3, src_set_4)]\n",
    "    \n",
    "    output_pair = [netG.main(item) for item in interpolation_set]\n",
    "    return inception_score(torch.cat(output_pair), cuda=True, batch_size=1, resize=True, splits=1)\n",
    "    \n",
    "def IS_4point_interpolation_linear(N = 1000):\n",
    "    t = torch.tensor([1/4,1/4,1/4,1/4],device=device)\n",
    "    src_set_1  = [torch.randn(100, device=device) for _ in range(N)]\n",
    "    src_set_2  = [torch.randn(100, device=device) for _ in range(N)]\n",
    "    src_set_3  = [torch.randn(100, device=device) for _ in range(N)]\n",
    "    src_set_4  = [torch.randn(100, device=device) for _ in range(N)]\n",
    "    \n",
    "    interpolation_set = [n_point_interpolation(torch.stack([src_1, src_2, src_3, src_4]), t, do_scale=False) \n",
    "                         for src_1,src_2,src_3,src_4 in zip(src_set_1, src_set_2, src_set_3, src_set_4)]\n",
    "    output_pair = [netG.main(item) for item in interpolation_set]\n",
    "    return inception_score(torch.cat(output_pair), cuda=True, batch_size=1, resize=True, splits=1)"
   ]
  },
  {
   "cell_type": "code",
   "execution_count": 22,
   "metadata": {},
   "outputs": [
    {
     "name": "stderr",
     "output_type": "stream",
     "text": [
      "/home/nurlan/anaconda3/lib/python3.6/site-packages/torch/nn/modules/upsampling.py:122: UserWarning: nn.Upsampling is deprecated. Use nn.functional.interpolate instead.\n",
      "  warnings.warn(\"nn.Upsampling is deprecated. Use nn.functional.interpolate instead.\")\n",
      "/home/nurlan/anaconda3/lib/python3.6/site-packages/torch/nn/functional.py:1961: UserWarning: Default upsampling behavior when mode=bilinear is changed to align_corners=False since 0.4.0. Please specify align_corners=True if the old behavior is desired. See the documentation of nn.Upsample for details.\n",
      "  \"See the documentation of nn.Upsample for details.\".format(mode))\n",
      "/home/nurlan/Documents/bmml-ot/inception_score.py:44: UserWarning: Implicit dimension choice for softmax has been deprecated. Change the call to include dim=X as an argument.\n",
      "  return F.softmax(x).data.cpu().numpy()\n"
     ]
    },
    {
     "name": "stdout",
     "output_type": "stream",
     "text": [
      "2 point interpolation (matched) :  (1.9473327521067487, 0.0)\n",
      "2 point interpolation (linear ) :  (1.8282965813802927, 0.0)\n"
     ]
    }
   ],
   "source": [
    "print (\"2 point interpolation (matched) : \", IS_2point_interpolation_ot(5))\n",
    "print (\"2 point interpolation (linear ) : \", IS_2point_interpolation_linear(5))"
   ]
  },
  {
   "cell_type": "code",
   "execution_count": 37,
   "metadata": {},
   "outputs": [
    {
     "name": "stderr",
     "output_type": "stream",
     "text": [
      "/home/nurlan/anaconda3/lib/python3.6/site-packages/torch/nn/modules/upsampling.py:122: UserWarning: nn.Upsampling is deprecated. Use nn.functional.interpolate instead.\n",
      "  warnings.warn(\"nn.Upsampling is deprecated. Use nn.functional.interpolate instead.\")\n",
      "/home/nurlan/anaconda3/lib/python3.6/site-packages/torch/nn/functional.py:1961: UserWarning: Default upsampling behavior when mode=bilinear is changed to align_corners=False since 0.4.0. Please specify align_corners=True if the old behavior is desired. See the documentation of nn.Upsample for details.\n",
      "  \"See the documentation of nn.Upsample for details.\".format(mode))\n",
      "/home/nurlan/Documents/bmml-ot/inception_score.py:44: UserWarning: Implicit dimension choice for softmax has been deprecated. Change the call to include dim=X as an argument.\n",
      "  return F.softmax(x).data.cpu().numpy()\n"
     ]
    },
    {
     "name": "stdout",
     "output_type": "stream",
     "text": [
      "4 point interpolation (matched) :  (1.6925921782796927, 0.0)\n",
      "4 point interpolation (linear ) :  (1.758471531175132, 0.0)\n"
     ]
    }
   ],
   "source": [
    "print (\"4 point interpolation (matched) : \", IS_4point_interpolation_ot(5))\n",
    "print (\"4 point interpolation (linear ) : \", IS_4point_interpolation_linear(5))"
   ]
  },
  {
   "cell_type": "code",
   "execution_count": null,
   "metadata": {},
   "outputs": [],
   "source": []
  }
 ],
 "metadata": {
  "kernelspec": {
   "display_name": "Python 3",
   "language": "python",
   "name": "python3"
  },
  "language_info": {
   "codemirror_mode": {
    "name": "ipython",
    "version": 3
   },
   "file_extension": ".py",
   "mimetype": "text/x-python",
   "name": "python",
   "nbconvert_exporter": "python",
   "pygments_lexer": "ipython3",
   "version": "3.6.4"
  }
 },
 "nbformat": 4,
 "nbformat_minor": 2
}
